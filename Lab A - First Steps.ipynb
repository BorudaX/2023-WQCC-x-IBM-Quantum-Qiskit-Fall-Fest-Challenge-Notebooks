{
 "cells": [
  {
   "cell_type": "code",
   "execution_count": 1,
   "id": "b45c0bcf-ee88-4b8b-bc4d-c397927e7164",
   "metadata": {
    "tags": []
   },
   "outputs": [],
   "source": [
    "########################################\n",
    "# ENTER YOUR NAME AND WISC EMAIL HERE: #\n",
    "########################################\n",
    "\n",
    "# Name: Ruben Aguilo Schuurs\n",
    "# Email: schuurs@wisc.edu"
   ]
  },
  {
   "cell_type": "markdown",
   "id": "8fde84ae-2739-4fd8-ac1a-54df9a34bb0e",
   "metadata": {
    "tags": []
   },
   "source": [
    "# Qiskit Fall Fest 2023\n",
    "\n",
    "![QFF Logo](images/QFF-logo.png)\n",
    "\n",
    "## Lab A: First Steps into Quantum Computing\n",
    "\n",
    "- Difficulty: 1/5\n",
    "\n",
    "- Estimated Time: 20 Minutes"
   ]
  },
  {
   "cell_type": "markdown",
   "id": "4c7c1be5-3273-41b7-ba50-3a894425e874",
   "metadata": {},
   "source": [
    "Hi there and welcome to the **Qiskit Fall Fest**! \n",
    "\n",
    "As part of the Qiskit Fall Fest, IBM Quantum has created a series of coding challenges for you to work through. We like to call these \"labs.\" Each lab centers on a different topic. Each lab also has a difficulty, and an estimated time, which you can find in the cell above.\n",
    "\n",
    "There are dozens of different schools participating in the Fall Fest. You're part of a global event that has thousands of students learning about quantum computing. Congrats! Whether you're a beginner or a veteran, we hope you enjoy the Qiskit Fall Fest! We're glad you're here."
   ]
  },
  {
   "cell_type": "markdown",
   "id": "993d2f10-9a27-4d8e-a14b-f45189526bc9",
   "metadata": {},
   "source": [
    "In this lab we will be teaching you how to use these challenge notebooks, how to grade your work, and the very first steps of writing a quantum circuit.\n",
    "\n",
    "To complete this lab, you should know a little bit about the coding languange Python. Each lab will contain a mixture of tutorial content, pre-written code blocks, and challenge code blocks which will require you to fill in your own Qiskit code (which is written in Python). The code required to complete the exercise should be typed under the line which has the `## Write your code below here ##` comment.\n",
    "\n",
    "If you've never used the IBM Quantum Labs before, it's important to note that you should run every code cell, even if you didn't write any new code within. This makes sure that when you submit your answers later on, everything is up to date."
   ]
  },
  {
   "cell_type": "markdown",
   "id": "5b41be5a-4296-4dc8-8e16-254348c7c816",
   "metadata": {},
   "source": [
    "If you are running this lab on the [IBM Quantum Lab site](https://lab.quantum-computing.ibm.com/), you're good to continue on. If you're running in Google Colab, a local coding environment, or anywhere else, you'll need to properly install Qiskit.\n",
    "\n",
    "It's easiest if you open this jupyter notebook in the IBM Quantum Lab (which conveniently has Qiskit installed already for you), however you could use any other site or program that can open a jupyter notebook. Just make sure to follow the directions in the #Readme file that was included in the zip file of labs, to make sure you have Qiskit and the grader client properly installed."
   ]
  },
  {
   "cell_type": "markdown",
   "id": "e477331b-05dd-42d1-a319-df81ba0527d0",
   "metadata": {},
   "source": [
    "Let's write some very basic code, so you can see how the labs work! \n",
    "\n",
    "In the code block below, re-write the answers for your name, age, and school next to each variable."
   ]
  },
  {
   "cell_type": "code",
   "execution_count": 2,
   "id": "4cd2d61c-d3e9-42c3-8b8c-733374c441b8",
   "metadata": {
    "tags": []
   },
   "outputs": [],
   "source": [
    "event = \"Qiskit Fall Fest\"\n",
    "\n",
    "## Write your code below here. Delete the current information and replace it with your own ##\n",
    "## Make sure to write your information between the quotation marks!\n",
    "\n",
    "name = \"Ruben\"\n",
    "\n",
    "age = \"18\"\n",
    "\n",
    "school = \"University of Wisconsin - Madison\"\n",
    "\n",
    "## Now press the \"Run\" button in the toolbar above, or press Shift + Enter while you're active in this cell\n"
   ]
  },
  {
   "cell_type": "markdown",
   "id": "0fda328c-ef67-4333-a5e4-9e3d993ab1d5",
   "metadata": {},
   "source": [
    "Make sure you pressed the \"Run\" button, or press Shift + Enter, when you were active in the cell above ^^ If you're in the IBM Quantum Lab site, you can tell which cell is active by the verticle blue line that appears on the left edge of the cell.\n",
    "\n",
    "Remember, you always should run every code cell, even ones you didn't add any new code into, to make sure things run properly.\n",
    "\n",
    "To make sure things are working properly, let's try to call those variables in the next cell!"
   ]
  },
  {
   "cell_type": "code",
   "execution_count": 3,
   "id": "102ea3c6-5b72-487c-b66c-7d93250d6836",
   "metadata": {
    "tags": []
   },
   "outputs": [
    {
     "name": "stdout",
     "output_type": "stream",
     "text": [
      "My name is Ruben, I am 18 years old, and I attend University of Wisconsin - Madison.\n"
     ]
    }
   ],
   "source": [
    "## You do not need to write any code in this cell. Simply run this cell to see your information in a sentence. ##\n",
    "\n",
    "print(f'My name is {name}, I am {age} years old, and I attend {school}.')\n"
   ]
  },
  {
   "cell_type": "markdown",
   "id": "1ffa9a7a-fe9d-4e6b-bab4-b9c86bb67c33",
   "metadata": {},
   "source": [
    "When you ran the cell above, you should see a sentence appear directly below it with all your information. \n",
    "\n",
    "Does it look correct? If so, nice job! If not, go back to cell 6 and double check that you filled everything out correctly between the quotation marks. Remember to run the cell after you made your changes!"
   ]
  },
  {
   "cell_type": "code",
   "execution_count": 4,
   "id": "44c807e2-c45e-483a-9676-d651d39283e6",
   "metadata": {
    "tags": []
   },
   "outputs": [
    {
     "name": "stdout",
     "output_type": "stream",
     "text": [
      "env: QC_GRADE_ONLY=true\n",
      "env: QC_GRADING_ENDPOINT=https://qac-grading.quantum-computing.ibm.com\n"
     ]
    }
   ],
   "source": [
    "## Run this cell to make sure your grader is setup correctly\n",
    "\n",
    "%set_env QC_GRADE_ONLY=true\n",
    "%set_env QC_GRADING_ENDPOINT=https://qac-grading.quantum-computing.ibm.com"
   ]
  },
  {
   "cell_type": "markdown",
   "id": "6715d89a-6566-452a-8fca-82fb126f9bed",
   "metadata": {},
   "source": [
    "## Part 1: What is Qiskit?"
   ]
  },
  {
   "cell_type": "markdown",
   "id": "65fc2fc1-1e69-4805-87fd-de8c8cb7ab62",
   "metadata": {},
   "source": [
    "The Qiskit Fall Fest is an awesome event, happening on your campus, with your classmates and friends. But this is just one small part of the entire Qiskit ecosystem.\n",
    "\n",
    "**Qiskit** is open-source software for working with quantum computers at the level of circuits, pulses, and algorithms.\n",
    "\n",
    "The central goal of Qiskit is to build a software stack that makes it easy for anyone to use quantum computers, regardless of their skill level or area of interest; Qiskit allows anyone to easily design experiments and applications and run them on real quantum computers or classical simulators. Qiskit is already in use around the world by beginners, hobbyists, educators, researchers, and commercial companies.\n",
    "\n",
    "The fundamental unit of Qiskit is the **quantum circuit**, which is a series of instructions that a quantum computer can use to work with quantum bits of information, also known as **qubits**. These qubits have special properties that enable quantum computers to approach problems differently than how your laptop or iPhone might. \n",
    "\n",
    "We're breezing through this overview because, honestly, we could spend hours just explaining the basics of quantum information and computation. In fact, IBM Quantum has done this already, producing a [written course](https://learn.qiskit.org/course/basics/single-systems) and a series of [video lectures](https://www.youtube.com/playlist?list=PLOFEBzvs-VvqKKMXX4vbi4EB1uaErFMSO) devoted to the topic. If you need a refresher, check them out!\n",
    "\n",
    "So back to Qiskit. A basic workflow using Qiskit consists of two stages: **Build** and **Execute**. Build allows you to make different quantum circuits that represent the problem you are solving, and Execute allows you to run those quantum circuits on different backends, including simulators, which is what we're be using. After the jobs have been run, the data is collected for you to see.\n",
    "\n",
    "In this first part, we're going to build a simple circuit, and execute it on a simulator. We tend to use simulators during tutorials because they can run instantly. IBM has dozens of quantum computers that can be accessed via the cloud, but *because* anyone around the world can use them, there are sometimes wait times. Let's avoid that and begin!"
   ]
  },
  {
   "cell_type": "markdown",
   "id": "318b4603-2e54-467a-b2a8-213100d867ce",
   "metadata": {},
   "source": [
    "### Your First Quantum Circuit\n",
    "\n",
    "To make a quantum circuit, we first need to build it. This is the hard part. Executing that circuit is honestly really easy! So to get started, we already built the circuit for you. Let's look at what happens when you run that circuit.\n",
    "\n",
    "Below we have created a quantum circuit with 3 qubits and 3 classical bits using the `QuantumCircuit()` function. We also included the method `qc.draw()` which will create a drawing of the circuit for us to see."
   ]
  },
  {
   "cell_type": "code",
   "execution_count": 5,
   "id": "263143bf-eb3c-4d1c-9795-c4f03d775966",
   "metadata": {
    "tags": []
   },
   "outputs": [
    {
     "data": {
      "image/png": "[encoded data removed]",
      "text/plain": [
       "<Figure size 162.08x367.889 with 1 Axes>"
      ]
     },
     "execution_count": 5,
     "metadata": {},
     "output_type": "execute_result"
    }
   ],
   "source": [
    "from qiskit import QuantumCircuit\n",
    "\n",
    "# Create quantum circuit with 3 qubits and 3 classical bits\n",
    "# (we'll explain why we need the classical bits later)\n",
    "qc = QuantumCircuit(3,3)\n",
    "\n",
    "# return a drawing of the circuit\n",
    "qc.draw()  \n",
    "\n",
    "## You don't need to write any new code in this cell, just run it"
   ]
  },
  {
   "cell_type": "markdown",
   "id": "0e25388c-5682-42e3-b3f3-67dac17040c9",
   "metadata": {},
   "source": [
    "Jupyter notebooks evaluate the last line of a code cell and display it below the cell. Since `qc.draw()` returns a drawing, that’s what we’re seeing under the code. There are no other instructions in our circuit yet, so we just see some horizontal lines. Each line next to a Q represents one of our qubits.\n",
    "\n",
    "We need a way to tell our quantum computer to measure our qubits and record the results. To do this, we add a \"measure\" operation to our quantum circuit. We can do this with the QuantumCircuit's `.measure()` method. We've put two arrays inside the method, telling qubits 0, 1, and 2 to be measured to the classical bits 0, 1, and 2. "
   ]
  },
  {
   "cell_type": "code",
   "execution_count": 6,
   "id": "62bf6b9d-0553-445e-9190-36b749f4cce6",
   "metadata": {
    "tags": []
   },
   "outputs": [
    {
     "data": {
      "image/png": "[encoded data removed]",
      "text/plain": [
       "<Figure size 371.107x367.889 with 1 Axes>"
      ]
     },
     "execution_count": 6,
     "metadata": {},
     "output_type": "execute_result"
    }
   ],
   "source": [
    "from qiskit import QuantumCircuit\n",
    "\n",
    "qc = QuantumCircuit(3,3)\n",
    "\n",
    "# measure all the qubits\n",
    "qc.measure([0,1,2], [0,1,2])\n",
    "\n",
    "qc.draw(output=\"mpl\")"
   ]
  },
  {
   "cell_type": "markdown",
   "id": "93854613-3995-4430-96bd-3c1db59ed6fe",
   "metadata": {},
   "source": [
    "Great! So when we measure the qubits, we knock them out of any unique quantum state they may be in. When we measure a qubit, we get a classical bit of data, a zero or a one. That's why we include the classical bits when we create a new `QuantumCircuit()` object. \n",
    "\n",
    "Next, let's see what the results of running this circuit would be. To do this, we'll use a quantum simulator, which is a standard computer calculating what an ideal quantum computer would do.\n",
    "\n",
    "Simulating a quantum computer is believed to be difficult for classical computers, as the best algorithms we have grow exponentially with the number of qubits. As such, these simulations are only possible for circuits with small numbers of qubits (up to ~30 qubits), or certain types of circuits for which we can use some tricks to speed up the simulation. Nevertheless, simulators are very useful tools for designing smaller quantum circuits.\n",
    "\n",
    "Let's import Qiskit’s simulator (called Aer), and make a new simulator object."
   ]
  },
  {
   "cell_type": "code",
   "execution_count": 7,
   "id": "612b6ffd-1425-4488-b52e-64fed0c82ec6",
   "metadata": {
    "tags": []
   },
   "outputs": [],
   "source": [
    "from qiskit.providers.aer import AerSimulator\n",
    "\n",
    "# make a new simulator object\n",
    "sim = AerSimulator()  "
   ]
  },
  {
   "cell_type": "markdown",
   "id": "d618f42d-a9f2-4071-9b6f-3db20f3656be",
   "metadata": {},
   "source": [
    "To do the simulation, we can use the simulator’s `.run()` method. This returns a \"job\", which contains information about the experiment, such as whether the experiment is running or completed, the backend it ran on, and (importantly for us), the results of the experiment.\n",
    "\n",
    "To get the results from the job, we use the results method, and the most popular way to view the results is as a dictionary of \"counts\"."
   ]
  },
  {
   "cell_type": "code",
   "execution_count": 8,
   "id": "7aacf3f4-424a-494f-9bce-9572cb02d82d",
   "metadata": {
    "tags": []
   },
   "outputs": [
    {
     "data": {
      "text/plain": [
       "{'000': 1024}"
      ]
     },
     "execution_count": 8,
     "metadata": {},
     "output_type": "execute_result"
    }
   ],
   "source": [
    "job = sim.run(qc)      # run the experiment\n",
    "result = job.result()  # get the results\n",
    "\n",
    "result.get_counts()    # interpret the results as a \"counts\" dictionary"
   ]
  },
  {
   "cell_type": "markdown",
   "id": "340bc050-60e2-4c49-ada3-e79e1732c367",
   "metadata": {},
   "source": [
    "The number on the left (000) is called a **key**, and the number on the right (1024) is a called a **value**. The key tells us what each of our three qubits got measured as, and the value is the number of times that specific result was measured. \n",
    "\n",
    "#### *Why did we measure the exact same thing - '000' - every time?* \n",
    "By convention, qubits always start in the state 0. This is their ground state. To change a qubit's state, you need to add energy to it. You can do this by adding various gates to the circuit. When you add gates to the circuit, you start changing the value of the qubit. Since we aren't adding any gates to our three qubits, the result stays zero for each.\n",
    "\n",
    "#### *Why did we run this circuit 1024 times?* \n",
    "Quantum computers are still very new, and can have randomness in their results. It's common to repeat your circuit a few times (or a few hundred) to compare your results. This circuit was repeated 1024 times, which is the default number of times to repeat a circuit in Qiskit. "
   ]
  },
  {
   "cell_type": "markdown",
   "id": "fa8874b0-a028-4364-88d9-51b1cd23ccd0",
   "metadata": {},
   "source": [
    "### Exercise 1\n",
    "\n",
    "**YOUR TASK:** Using what you just learned, make a new variable called `qc` and use it to create a quantum circuit with 4 qubits and 4 classical bits. Then, measure those qubits to each classical bit. Do all of this in the cell below. \n",
    "\n",
    "After you do this, we provided code in the following cell to run your job on a simulator, get the results, and get the counts. For an extra challenge, try to do this yourself.\n",
    "\n",
    "Hint: You're just reusing the same commands we learned above, all together in one cell. You should only need to refer to the above tutorials to complete Exercise 1. "
   ]
  },
  {
   "cell_type": "code",
   "execution_count": 9,
   "id": "f3a892b3-b0c7-4a9a-b520-7da971c63a83",
   "metadata": {
    "tags": []
   },
   "outputs": [
    {
     "data": {
      "image/png": "[encoded data removed]",
      "text/plain": [
       "<Figure size 454.719x451.5 with 1 Axes>"
      ]
     },
     "execution_count": 9,
     "metadata": {},
     "output_type": "execute_result"
    }
   ],
   "source": [
    "from qiskit import QuantumCircuit\n",
    "from qiskit.providers.aer import AerSimulator\n",
    "\n",
    "\n",
    "## Write your code below here ##\n",
    "qc = QuantumCircuit(4,4)\n",
    "\n",
    "qc.measure([0,1,2,3],[0,1,2,3])\n",
    "\n",
    "\n",
    "\n",
    "## Do not modify the code under this line ##\n",
    "\n",
    "qc.draw()"
   ]
  },
  {
   "cell_type": "code",
   "execution_count": 10,
   "id": "50ff5dc3-82a8-4f14-b502-358e78cd341f",
   "metadata": {
    "tags": []
   },
   "outputs": [],
   "source": [
    "sim = AerSimulator()   # make a new simulator object\n",
    "job = sim.run(qc)      # run the experiment\n",
    "result = job.result()  # get the results\n",
    "\n",
    "answer1 = result.get_counts()"
   ]
  },
  {
   "cell_type": "markdown",
   "id": "c84481af-fd8c-48bf-8fa0-68e50af0a8d9",
   "metadata": {},
   "source": [
    "After each exercise we'll need to figure out if what you wrote is correct. To do this, you simply run a grader cell. You don't need to add any code to the grader cell. Once you run it, a message will appear underneath it letting you know if you completed the exercise correctly. "
   ]
  },
  {
   "cell_type": "code",
   "execution_count": 11,
   "id": "cf751fc9-56b2-4fb7-bdc2-83b6029ddf6d",
   "metadata": {
    "tags": []
   },
   "outputs": [
    {
     "name": "stdout",
     "output_type": "stream",
     "text": [
      "Grading your answer. Please wait...\n",
      "\n",
      "Congratulations 🎉! Your answer is correct.\n"
     ]
    }
   ],
   "source": [
    "# Grader Cell: Run this to submit your answer\n",
    "\n",
    "from qc_grader.challenges.fall_fest23 import grade_ex1a\n",
    "\n",
    "grade_ex1a(answer1)"
   ]
  },
  {
   "cell_type": "markdown",
   "id": "90d340b8-95aa-4218-9864-916e3f1fd1e1",
   "metadata": {},
   "source": [
    "Nice job, you have now successfully created a quantum circuit which does absolutely nothing. Congrats! Let's get a little more ambitious..."
   ]
  },
  {
   "cell_type": "markdown",
   "id": "32793200-b916-46bd-96f7-623a7b292996",
   "metadata": {},
   "source": [
    "## Part 2: Using Gates \n",
    "\n",
    "Quantum computers can use \"gates\" to send different instructions to the qubits. Let's look at three commonly used gates:\n",
    "\n",
    "First up, we have what is known as a NOT gate. This is one of the most basic operations that you can do in a computer; it simply flips the bit value. A 0 becomes 1, or a 1 becomes 0. We use a gate known as the X gate, `.x()` for this, writing the target qubit number inside the parenthesis. This is commonly referred to by either name, an X or a NOT gate. \n",
    "\n",
    "Next, let's look at something uniquely quantum, the Hadamard gate. This gate puts a qubit into a superposition, which hopefully you've already learned in one of your Fall Fest workshops! We can apply a hadamard gate simply, by using `.h()` and writing the target qubit number inside the parenthesis.\n",
    "\n",
    "The last gate we'll look at for now is the CNOT gate. There's a lot of ways to examine what this gate is or what it does. To keep it simple, let's say that this is the entanglement gate. It entangles two qubits together. We apply a CNOT gate by using `.cx()` and writing the two qubit numbers in the parenthesis. \n",
    "\n",
    "Time to see each of these in action:"
   ]
  },
  {
   "cell_type": "code",
   "execution_count": 12,
   "id": "d2bb51dd-f978-4525-97ae-22f49a261aec",
   "metadata": {
    "tags": []
   },
   "outputs": [
    {
     "data": {
      "image/png": "[encoded data removed]",
      "text/plain": [
       "<Figure size 370.906x200.667 with 1 Axes>"
      ]
     },
     "execution_count": 12,
     "metadata": {},
     "output_type": "execute_result"
    }
   ],
   "source": [
    "from qiskit import QuantumCircuit\n",
    "\n",
    "qc = QuantumCircuit(2)\n",
    "\n",
    "# We start by flipping the first qubit, which is qubit 0, using an X gate\n",
    "qc.x(0)\n",
    "\n",
    "# Next we add an H gate on qubit 0, putting this qubit in superposition.\n",
    "qc.h(0)\n",
    "\n",
    "# Finally we add a CX (CNOT) gate on qubit 0 and qubit 1\n",
    "# This entangles the two qubits together\n",
    "qc.cx(0, 1)\n",
    "\n",
    "qc.draw(output=\"mpl\")"
   ]
  },
  {
   "cell_type": "markdown",
   "id": "b9250758-9c46-4a8c-acb3-277c4055d586",
   "metadata": {},
   "source": [
    "Pretty simple! Go back and mess around with the gates. Experiement with which qubit you target. You can even change the quantum circuit to include more qubits. Add a few extra X gates to whatever qubits you'd like. \n",
    "\n",
    "After each change, run the cell again to see a diagram of what you did.\n",
    "\n",
    "**NOTE** - See how this time we called the QuantumCircuit function and only passed through a single number? We can do this to create a new circuit that only contains qubits, with no classical bits. This is really handy when you just want to build and draw a circuit for reference. We can't measure those qubits without any classical bits, but we can experiement to see how adding different gates would affect our circuit.\n",
    "\n",
    "Once you feel like you understand how each gate works, move on to Exercise 2."
   ]
  },
  {
   "cell_type": "markdown",
   "id": "584d5a23-6056-40c9-8b68-4f6f4be3dd61",
   "metadata": {},
   "source": [
    "### Exercise 2\n",
    "\n",
    "Let's use these gates to create what's called a Bell state. \n",
    "\n",
    "**YOUR TASK:** In the cell below, we have already created a new Quantum Circuit with two qubits. You need to apply a Hadamard gate to `q0`, then a CNOT gate connecting qubit 0 to qubit 1. "
   ]
  },
  {
   "cell_type": "code",
   "execution_count": 13,
   "id": "5e2112ca-510a-4937-b926-963a16c013c2",
   "metadata": {
    "tags": []
   },
   "outputs": [
    {
     "data": {
      "image/png": "[encoded data removed]",
      "text/plain": [
       "<Figure size 287.294x284.278 with 1 Axes>"
      ]
     },
     "execution_count": 13,
     "metadata": {},
     "output_type": "execute_result"
    }
   ],
   "source": [
    "from qiskit import QuantumCircuit\n",
    "\n",
    "qc = QuantumCircuit(2, 2)\n",
    "\n",
    "\n",
    "## Write your code below here ##\n",
    "qc.h(0)\n",
    "qc.cx(0,1)\n",
    "\n",
    "    \n",
    "## Do not modify the code under this line ##\n",
    "\n",
    "\n",
    "answer2 = qc\n",
    "qc.draw(output=\"mpl\")"
   ]
  },
  {
   "cell_type": "code",
   "execution_count": 14,
   "id": "b1d00298-60cc-473c-8ffd-d9f905c3cf9a",
   "metadata": {
    "tags": []
   },
   "outputs": [
    {
     "name": "stdout",
     "output_type": "stream",
     "text": [
      "Grading your answer. Please wait...\n",
      "\n",
      "Congratulations 🎉! Your answer is correct.\n"
     ]
    }
   ],
   "source": [
    "# Grader Cell: Run this to submit your answer\n",
    "\n",
    "from qc_grader.challenges.fall_fest23 import grade_ex1b\n",
    "\n",
    "grade_ex1b(answer2)"
   ]
  },
  {
   "cell_type": "markdown",
   "id": "5bfe88b8-59fc-4e1e-b142-38c6a39f3d50",
   "metadata": {},
   "source": [
    "## Congratulations!"
   ]
  },
  {
   "cell_type": "markdown",
   "id": "4e74cfe6-a31c-48b1-9ff3-e1d573341fc2",
   "metadata": {},
   "source": [
    "You've made it to the end of the first lab! Let's recap what you learned:\n",
    "\n",
    "-  The fundamental unit of Qiskit is the quantum circuit, which is a series of instructions that a quantum computer can use to work with quantum bits of information, also known as qubits.\n",
    "- The `QuantumCircuit(x, y)` function creates a new quantum circuit with (x) qubits and, optionally, (y) classical bits\n",
    "- When you measure a qubit, it falls out of it's quantum state down to a single bit of information, a 0 or a 1\n",
    "- The X gate flips a qubit from 0 to 1 (or vice versa)\n",
    "- The H gate puts a qubit into superposition\n",
    "- The CX gate entangles two qubits together"
   ]
  },
  {
   "cell_type": "markdown",
   "id": "50054d17-90c0-4919-a527-654b33e4c646",
   "metadata": {},
   "source": [
    "Now that you know a little bit about Qiskit, it is time to move onto the next lab and learn more. Enjoy the Qiskit Fall Fest. Good luck!"
   ]
  },
  {
   "cell_type": "code",
   "execution_count": null,
   "id": "d9386a97-598e-4e22-82bc-e5c4a1200e16",
   "metadata": {},
   "outputs": [],
   "source": []
  }
 ],
 "metadata": {
  "kernelspec": {
   "display_name": "Python 3 (ipykernel)",
   "language": "python",
   "name": "python3"
  },
  "language_info": {
   "codemirror_mode": {
    "name": "ipython",
    "version": 3
   },
   "file_extension": ".py",
   "mimetype": "text/x-python",
   "name": "python",
   "nbconvert_exporter": "python",
   "pygments_lexer": "ipython3",
   "version": "3.10.8"
  },
  "widgets": {
   "application/vnd.jupyter.widget-state+json": {
    "state": {},
    "version_major": 2,
    "version_minor": 0
   }
  }
 },
 "nbformat": 4,
 "nbformat_minor": 5
}
